{
 "cells": [
  {
   "cell_type": "code",
   "execution_count": 4,
   "metadata": {},
   "outputs": [
    {
     "name": "stderr",
     "output_type": "stream",
     "text": [
      "/usr/local/lib/python3.6/dist-packages/pynq/overlay.py:299: UserWarning: Users will not get PARAMETERS / REGISTERS information through TCL files. HWH file is recommended.\n",
      "  warnings.warn(message, UserWarning)\n"
     ]
    }
   ],
   "source": [
    "import time\n",
    "from pynq import Overlay\n",
    "from mcs4_driver import Mcs4Driver\n",
    "overlay = Overlay('/home/xilinx/pynq/overlays/mcs4/mcs4.bit')"
   ]
  },
  {
   "cell_type": "code",
   "execution_count": 17,
   "metadata": {},
   "outputs": [
    {
     "name": "stdout",
     "output_type": "stream",
     "text": [
      "FibRand(5)=5\n"
     ]
    }
   ],
   "source": [
    "fib_arg = 5\n",
    "overlay.mcs4_0.init_rom(overlay.mcs4_0.FIB_RAND)\n",
    "overlay.mcs4_0.zero_ram()\n",
    "overlay.mcs4_0.set_inputs(0x0, fib_arg)\n",
    "overlay.mcs4_0.reset()\n",
    "time.sleep(0.1)\n",
    "ram_state = overlay.mcs4_0.read_ram(0x0, 1)\n",
    "fib_out = (ram_state[0] >> 8) & 0xFF\n",
    "print(\"FibRand(%d)=%d\" % (fib_arg, fib_out))"
   ]
  },
  {
   "cell_type": "code",
   "execution_count": null,
   "metadata": {},
   "outputs": [],
   "source": []
  }
 ],
 "metadata": {
  "kernelspec": {
   "display_name": "Python 3",
   "language": "python",
   "name": "python3"
  },
  "language_info": {
   "codemirror_mode": {
    "name": "ipython",
    "version": 3
   },
   "file_extension": ".py",
   "mimetype": "text/x-python",
   "name": "python",
   "nbconvert_exporter": "python",
   "pygments_lexer": "ipython3",
   "version": "3.6.5"
  }
 },
 "nbformat": 4,
 "nbformat_minor": 2
}
