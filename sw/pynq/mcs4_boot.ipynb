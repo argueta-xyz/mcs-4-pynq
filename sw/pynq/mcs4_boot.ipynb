{
 "cells": [
  {
   "cell_type": "markdown",
   "metadata": {},
   "source": [
    "# MCS-4 Fibonacci \"Random\" Sequence Generator\n",
    "\n",
    "This notebook illustrates the initialization process for loading the overlay containing the MCS-4 IP, connecting it to the Pynq Mcs4Driver, loading the ROM with instructions, overriding the inputs, executing the program, and checking the outputs.\n",
    "\n",
    "### Overlay Setup\n",
    "1. Import the necessary libraries and drivers\n",
    "2. Load overlay from bitfile"
   ]
  },
  {
   "cell_type": "code",
   "execution_count": null,
   "metadata": {},
   "outputs": [],
   "source": [
    "import time\n",
    "from pynq import Overlay\n",
    "from mcs4_driver import Mcs4Driver\n",
    "overlay = Overlay('/home/xilinx/pynq/overlays/mcs4/mcs4.bit')"
   ]
  },
  {
   "cell_type": "markdown",
   "metadata": {},
   "source": [
    "### Program Setup\n",
    "1. Initialize ROM with pre-assembled FIB_RAND test program that is stored in the driver source code for convenience. This can alternatively be loaded from an array of 32b words directly.\n",
    "2. Zero out RAM between runs\n",
    "3. Override inputs to argument value (this program reads in its top level arguments from the ROM I/O ports\n",
    "4. Reset the system, and wait for processing (this isn't always necessary)\n",
    "5. Read out RAM state for final outputs"
   ]
  },
  {
   "cell_type": "code",
   "execution_count": null,
   "metadata": {
    "scrolled": false
   },
   "outputs": [],
   "source": [
    "import ipywidgets as widgets\n",
    "\n",
    "def fibRand(fib_arg):\n",
    "    overlay.mcs4_0.init_rom(overlay.mcs4_0.FIB_RAND)\n",
    "    overlay.mcs4_0.zero_ram()\n",
    "    overlay.mcs4_0.set_inputs(0x0, fib_arg)\n",
    "    overlay.mcs4_0.reset()\n",
    "    time.sleep(0.1)\n",
    "    ram_state = overlay.mcs4_0.read_ram(0x0, 1)\n",
    "    fib_out = (ram_state[0] >> 8) & 0xFF\n",
    "    print(\"FibRand(%d)=%d\" % (fib_arg, fib_out))\n",
    "    \n",
    "    \n",
    "argIn = widgets.BoundedIntText(value=20, min=0, max=255, step=1,\n",
    "                               description=\"FibRand In:\", disabled=False)\n",
    "interact(fibRand, fib_arg=argIn)\n"
   ]
  }
 ],
 "metadata": {
  "kernelspec": {
   "display_name": "Python 3",
   "language": "python",
   "name": "python3"
  },
  "language_info": {
   "codemirror_mode": {
    "name": "ipython",
    "version": 3
   },
   "file_extension": ".py",
   "mimetype": "text/x-python",
   "name": "python",
   "nbconvert_exporter": "python",
   "pygments_lexer": "ipython3",
   "version": "3.6.5"
  }
 },
 "nbformat": 4,
 "nbformat_minor": 2
}
